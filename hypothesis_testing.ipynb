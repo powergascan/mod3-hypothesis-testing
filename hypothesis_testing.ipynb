{
 "cells": [
  {
   "cell_type": "markdown",
   "metadata": {},
   "source": [
    "<img src=\"./img/DC_Gray _Logo.png\">"
   ]
  },
  {
   "cell_type": "markdown",
   "metadata": {},
   "source": [
    "<center><h2> Module 3 Project</h2></center>\n",
    "<center><h2> Hypothesis Testing</h2></center>\n",
    "\n",
    "**Authors:**"
   ]
  },
  {
   "cell_type": "markdown",
   "metadata": {},
   "source": [
    "#### Business Problem"
   ]
  },
  {
   "cell_type": "markdown",
   "metadata": {},
   "source": [
    "#### Analysis"
   ]
  },
  {
   "cell_type": "code",
   "execution_count": 1,
   "metadata": {},
   "outputs": [
    {
     "name": "stdout",
     "output_type": "stream",
     "text": [
      "csv saved to data\\dirty_data.csv\n"
     ]
    }
   ],
   "source": [
    "import data_precleaning as dp\n",
    "dp.generate_kickstarter_csv('data/sample_kickstarter.json', 'dirty_data')"
   ]
  },
  {
   "cell_type": "code",
   "execution_count": 2,
   "metadata": {},
   "outputs": [],
   "source": [
    "import pandas as pd\n",
    "import data_cleaning as dc\n",
    "dirty_data = pd.read_csv('./data/dirty_data.csv')\n",
    "cleaned_data = dc.full_clean(dirty_data)"
   ]
  },
  {
   "cell_type": "code",
   "execution_count": 3,
   "metadata": {},
   "outputs": [],
   "source": [
    "import success_metrics as sm\n",
    "country_mean_pledge_rate = sm.pledge_rate_mean(cleaned_data)"
   ]
  },
  {
   "cell_type": "code",
   "execution_count": 4,
   "metadata": {},
   "outputs": [
    {
     "name": "stdout",
     "output_type": "stream",
     "text": [
      "0 \r",
      "1 \r",
      "2 \r",
      "3 \r",
      "4 \r",
      "5 \r",
      "6 \r",
      "7 \r",
      "8 \r",
      "9 \r",
      "10 \r",
      "11 \r",
      "12 \r"
     ]
    },
    {
     "name": "stderr",
     "output_type": "stream",
     "text": [
      "C:\\Users\\Kaleb\\Anaconda3\\lib\\site-packages\\pandas\\core\\indexing.py:189: SettingWithCopyWarning: \n",
      "A value is trying to be set on a copy of a slice from a DataFrame\n",
      "\n",
      "See the caveats in the documentation: http://pandas.pydata.org/pandas-docs/stable/indexing.html#indexing-view-versus-copy\n",
      "  self._setitem_with_indexer(indexer, value)\n"
     ]
    },
    {
     "name": "stdout",
     "output_type": "stream",
     "text": [
      "236 \r"
     ]
    }
   ],
   "source": [
    "import comparison_attribute as ca\n",
    "trust_and_country_pledge_rate = ca.add_trustdata(country_mean_pledge_rate)"
   ]
  },
  {
   "cell_type": "code",
   "execution_count": 5,
   "metadata": {
    "scrolled": false
   },
   "outputs": [
    {
     "data": {
      "text/html": [
       "<div>\n",
       "<style scoped>\n",
       "    .dataframe tbody tr th:only-of-type {\n",
       "        vertical-align: middle;\n",
       "    }\n",
       "\n",
       "    .dataframe tbody tr th {\n",
       "        vertical-align: top;\n",
       "    }\n",
       "\n",
       "    .dataframe thead th {\n",
       "        text-align: right;\n",
       "    }\n",
       "</style>\n",
       "<table border=\"1\" class=\"dataframe\">\n",
       "  <thead>\n",
       "    <tr style=\"text-align: right;\">\n",
       "      <th></th>\n",
       "      <th>Unnamed: 0</th>\n",
       "      <th>Backers</th>\n",
       "      <th>Goal</th>\n",
       "      <th>Pledged</th>\n",
       "      <th>Pledge Rate</th>\n",
       "      <th>Trust in others (%)</th>\n",
       "      <th>Trust Bin</th>\n",
       "    </tr>\n",
       "  </thead>\n",
       "  <tbody>\n",
       "    <tr>\n",
       "      <th>AU</th>\n",
       "      <td>2470.597403</td>\n",
       "      <td>16.246753</td>\n",
       "      <td>463753.441558</td>\n",
       "      <td>975.691706</td>\n",
       "      <td>0.002104</td>\n",
       "      <td>54.43383</td>\n",
       "      <td>High</td>\n",
       "    </tr>\n",
       "    <tr>\n",
       "      <th>CA</th>\n",
       "      <td>2684.202970</td>\n",
       "      <td>25.975248</td>\n",
       "      <td>513325.673267</td>\n",
       "      <td>1348.402888</td>\n",
       "      <td>0.002627</td>\n",
       "      <td>41.11111</td>\n",
       "      <td>Low</td>\n",
       "    </tr>\n",
       "    <tr>\n",
       "      <th>CH</th>\n",
       "      <td>2681.000000</td>\n",
       "      <td>29.500000</td>\n",
       "      <td>11462.000000</td>\n",
       "      <td>2371.176381</td>\n",
       "      <td>0.206873</td>\n",
       "      <td>49.42904</td>\n",
       "      <td>High</td>\n",
       "    </tr>\n",
       "    <tr>\n",
       "      <th>DE</th>\n",
       "      <td>1905.103448</td>\n",
       "      <td>42.586207</td>\n",
       "      <td>13096.000000</td>\n",
       "      <td>3798.143017</td>\n",
       "      <td>0.290023</td>\n",
       "      <td>42.03041</td>\n",
       "      <td>Low</td>\n",
       "    </tr>\n",
       "    <tr>\n",
       "      <th>ES</th>\n",
       "      <td>2307.631579</td>\n",
       "      <td>141.315789</td>\n",
       "      <td>13963.157895</td>\n",
       "      <td>8964.255410</td>\n",
       "      <td>0.641993</td>\n",
       "      <td>19.01944</td>\n",
       "      <td>Low</td>\n",
       "    </tr>\n",
       "  </tbody>\n",
       "</table>\n",
       "</div>"
      ],
      "text/plain": [
       "     Unnamed: 0     Backers           Goal      Pledged  Pledge Rate  \\\n",
       "AU  2470.597403   16.246753  463753.441558   975.691706     0.002104   \n",
       "CA  2684.202970   25.975248  513325.673267  1348.402888     0.002627   \n",
       "CH  2681.000000   29.500000   11462.000000  2371.176381     0.206873   \n",
       "DE  1905.103448   42.586207   13096.000000  3798.143017     0.290023   \n",
       "ES  2307.631579  141.315789   13963.157895  8964.255410     0.641993   \n",
       "\n",
       "    Trust in others (%) Trust Bin  \n",
       "AU             54.43383      High  \n",
       "CA             41.11111       Low  \n",
       "CH             49.42904      High  \n",
       "DE             42.03041       Low  \n",
       "ES             19.01944       Low  "
      ]
     },
     "execution_count": 5,
     "metadata": {},
     "output_type": "execute_result"
    }
   ],
   "source": [
    "trust_and_country_pledge_rate.head()"
   ]
  },
  {
   "cell_type": "code",
   "execution_count": 6,
   "metadata": {},
   "outputs": [
    {
     "name": "stdout",
     "output_type": "stream",
     "text": [
      "Based on the p value of 0.3921700975205821 and our alpha of 0.05 we fail to reject the null hypothesis.\n",
      "\n",
      "Due to these results, we cannot state that there is a difference between the pledge rate in high-trust and low-trust countries.\n",
      ".\n"
     ]
    }
   ],
   "source": [
    "import hypothesis_tests as ht\n",
    "hypothesis_tests = ht.hypothesis_test_one(alpha = 0.05, cleaned_data = trust_and_country_pledge_rate)"
   ]
  },
  {
   "cell_type": "markdown",
   "metadata": {},
   "source": [
    "#### Findings & Application"
   ]
  },
  {
   "cell_type": "markdown",
   "metadata": {},
   "source": [
    "#### Limitations"
   ]
  },
  {
   "cell_type": "markdown",
   "metadata": {},
   "source": [
    "#### Next Steps"
   ]
  },
  {
   "cell_type": "code",
   "execution_count": null,
   "metadata": {},
   "outputs": [],
   "source": []
  }
 ],
 "metadata": {
  "kernelspec": {
   "display_name": "Python 3",
   "language": "python",
   "name": "python3"
  },
  "language_info": {
   "codemirror_mode": {
    "name": "ipython",
    "version": 3
   },
   "file_extension": ".py",
   "mimetype": "text/x-python",
   "name": "python",
   "nbconvert_exporter": "python",
   "pygments_lexer": "ipython3",
   "version": "3.7.1"
  }
 },
 "nbformat": 4,
 "nbformat_minor": 2
}
