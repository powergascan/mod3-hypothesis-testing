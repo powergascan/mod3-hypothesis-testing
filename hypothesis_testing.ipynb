{
 "cells": [
  {
   "cell_type": "markdown",
   "metadata": {},
   "source": [
    "<img src=\"./img/DC_Gray _Logo.png\">"
   ]
  },
  {
   "cell_type": "markdown",
   "metadata": {},
   "source": [
    "<center><h2> Module 3 Project</h2></center>\n",
    "<center><h2> Hypothesis Testing</h2></center>\n",
    "\n",
    "**Authors:**"
   ]
  },
  {
   "cell_type": "markdown",
   "metadata": {},
   "source": [
    "#### Business Problem"
   ]
  },
  {
   "cell_type": "markdown",
   "metadata": {},
   "source": [
    "#### Analysis"
   ]
  },
  {
   "cell_type": "code",
   "execution_count": 5,
   "metadata": {},
   "outputs": [],
   "source": [
    "%load_ext autoreload\n",
    "%autoreload 2"
   ]
  },
  {
   "cell_type": "code",
   "execution_count": 79,
   "metadata": {},
   "outputs": [],
   "source": [
    "from data_precleaning import *\n",
    "from data_cleaning import *\n",
    "from comparison_attribute import *\n",
    "from aggregation import *\n",
    "from election_by_state import *\n",
    "from hypothesis_tests import *\n",
    "import statsmodels.formula.api as smf\n",
    "import matplotlib.pyplot as plt\n",
    "import seaborn as sns\n",
    "import pandas as pd\n",
    "from scipy import stats\n",
    "import numpy"
   ]
  },
  {
   "cell_type": "code",
   "execution_count": 31,
   "metadata": {},
   "outputs": [],
   "source": [
    "#load raw json\n",
    "'''list_of_files=json_filter(\"json_data\")\n",
    "csv_list=[]\n",
    "for i in list_of_files:\n",
    "    jsons=json_generator(i)\n",
    "    csv_list.append(generate_kickstarter_csv(jsons))'''"
   ]
  },
  {
   "cell_type": "code",
   "execution_count": 57,
   "metadata": {},
   "outputs": [
    {
     "name": "stderr",
     "output_type": "stream",
     "text": [
      "C:\\Users\\power\\OneDrive\\Desktop\\mod3-hypothesis-testing\\data_cleaning.py:27: SettingWithCopyWarning: \n",
      "A value is trying to be set on a copy of a slice from a DataFrame.\n",
      "Try using .loc[row_indexer,col_indexer] = value instead\n",
      "\n",
      "See the caveats in the documentation: http://pandas.pydata.org/pandas-docs/stable/indexing.html#indexing-view-versus-copy\n",
      "  dirty_data['Pledge_Percentage']= dirty_data['Pledged']/ dirty_data['Goal']*100\n",
      "C:\\ProgramData\\Anaconda3\\lib\\site-packages\\pandas\\core\\indexing.py:543: SettingWithCopyWarning: \n",
      "A value is trying to be set on a copy of a slice from a DataFrame.\n",
      "Try using .loc[row_indexer,col_indexer] = value instead\n",
      "\n",
      "See the caveats in the documentation: http://pandas.pydata.org/pandas-docs/stable/indexing.html#indexing-view-versus-copy\n",
      "  self.obj[item] = s\n",
      "C:\\Users\\power\\OneDrive\\Desktop\\mod3-hypothesis-testing\\data_cleaning.py:30: SettingWithCopyWarning: \n",
      "A value is trying to be set on a copy of a slice from a DataFrame.\n",
      "Try using .loc[row_indexer,col_indexer] = value instead\n",
      "\n",
      "See the caveats in the documentation: http://pandas.pydata.org/pandas-docs/stable/indexing.html#indexing-view-versus-copy\n",
      "  dirty_data['Created_Datetime'])\n",
      "C:\\Users\\power\\OneDrive\\Desktop\\mod3-hypothesis-testing\\data_cleaning.py:31: SettingWithCopyWarning: \n",
      "A value is trying to be set on a copy of a slice from a DataFrame.\n",
      "Try using .loc[row_indexer,col_indexer] = value instead\n",
      "\n",
      "See the caveats in the documentation: http://pandas.pydata.org/pandas-docs/stable/indexing.html#indexing-view-versus-copy\n",
      "  dirty_data['Funding_Status']=(dirty_data['Status']=='successful').astype(int)\n",
      "C:\\Users\\power\\OneDrive\\Desktop\\mod3-hypothesis-testing\\data_cleaning.py:32: SettingWithCopyWarning: \n",
      "A value is trying to be set on a copy of a slice from a DataFrame\n",
      "\n",
      "See the caveats in the documentation: http://pandas.pydata.org/pandas-docs/stable/indexing.html#indexing-view-versus-copy\n",
      "  dirty_data.sort_values(['Created_Month'],inplace=True)\n",
      "C:\\Users\\power\\OneDrive\\Desktop\\mod3-hypothesis-testing\\data_cleaning.py:33: SettingWithCopyWarning: \n",
      "A value is trying to be set on a copy of a slice from a DataFrame.\n",
      "Try using .loc[row_indexer,col_indexer] = value instead\n",
      "\n",
      "See the caveats in the documentation: http://pandas.pydata.org/pandas-docs/stable/indexing.html#indexing-view-versus-copy\n",
      "  dirty_data['Serial_Entrepreneur']=dirty_data.groupby(['Creater_ID'])['Funding_Status'].transform('cumsum')\n",
      "C:\\Users\\power\\OneDrive\\Desktop\\mod3-hypothesis-testing\\data_cleaning.py:34: SettingWithCopyWarning: \n",
      "A value is trying to be set on a copy of a slice from a DataFrame.\n",
      "Try using .loc[row_indexer,col_indexer] = value instead\n",
      "\n",
      "See the caveats in the documentation: http://pandas.pydata.org/pandas-docs/stable/indexing.html#indexing-view-versus-copy\n",
      "  dirty_data['Year']=dirty_data['Created_Month'].dt.year\n",
      "C:\\Users\\power\\OneDrive\\Desktop\\mod3-hypothesis-testing\\data_cleaning.py:43: SettingWithCopyWarning: \n",
      "A value is trying to be set on a copy of a slice from a DataFrame.\n",
      "Try using .loc[row_indexer,col_indexer] = value instead\n",
      "\n",
      "See the caveats in the documentation: http://pandas.pydata.org/pandas-docs/stable/indexing.html#indexing-view-versus-copy\n",
      "  def category_mapping(dirty_data, category):\n"
     ]
    }
   ],
   "source": [
    "#cleaned file saved to a pickle that is easy to load\n",
    "'''kickstarter=kickstarter_concat(csv_list,\"Trial_Pickle\")\n",
    "category=pd.read_csv(\"data/categories.csv\")\n",
    "kickstarter_cleaned=full_clean(kickstarter,category)'''"
   ]
  },
  {
   "cell_type": "code",
   "execution_count": 58,
   "metadata": {},
   "outputs": [],
   "source": [
    "#load all data\n",
    "kickstarter_clean=pd.read_pickle(\"data/cleaned_df.pickle\")\n",
    "trustdata = pd.read_csv('data/self-reported-trust-attitudes.csv')\n",
    "election_data=pd.read_csv('data/1976-2016-president.csv')"
   ]
  },
  {
   "cell_type": "code",
   "execution_count": 59,
   "metadata": {},
   "outputs": [],
   "source": [
    "#Question 1: How does trust correlate with funding rate"
   ]
  },
  {
   "cell_type": "code",
   "execution_count": 60,
   "metadata": {},
   "outputs": [
    {
     "name": "stdout",
     "output_type": "stream",
     "text": [
      "We use the year(s) [2014] in the trust data\n",
      "There are 98 countries in the trust data\n",
      "After merge, there are 78 countries in the country-trust-funding data\n"
     ]
    }
   ],
   "source": [
    "trust_funding_data=add_trustdata(trustdata, kickstarter_clean)"
   ]
  },
  {
   "cell_type": "code",
   "execution_count": 61,
   "metadata": {},
   "outputs": [
    {
     "data": {
      "text/plain": [
       "<matplotlib.axes._subplots.AxesSubplot at 0x1bf86a93198>"
      ]
     },
     "execution_count": 61,
     "metadata": {},
     "output_type": "execute_result"
    },
    {
     "data": {
      "image/png": "[encoded data removed]",
      "text/plain": [
       "<Figure size 432x288 with 1 Axes>"
      ]
     },
     "metadata": {
      "needs_background": "light"
     },
     "output_type": "display_data"
    }
   ],
   "source": [
    "#plot 1: destribution of Funding Percentage for Low trust, Medium trust and High trust countries\n",
    "sns.boxplot(x='Trust_Bin', y='Pledge_Percentage', data=trust_funding_data, showfliers=False)"
   ]
  },
  {
   "cell_type": "code",
   "execution_count": 63,
   "metadata": {},
   "outputs": [
    {
     "data": {
      "text/plain": [
       "<matplotlib.axes._subplots.AxesSubplot at 0x1bfc6b5a160>"
      ]
     },
     "execution_count": 63,
     "metadata": {},
     "output_type": "execute_result"
    },
    {
     "data": {
      "image/png": "[encoded data removed]",
      "text/plain": [
       "<Figure size 432x288 with 1 Axes>"
      ]
     },
     "metadata": {
      "needs_background": "light"
     },
     "output_type": "display_data"
    }
   ],
   "source": [
    "sns.boxplot(x='Trust_Bin', y='Pledge_Percentage', data=trust_funding_data, hue=\"Entrepreneur_Experience\", showfliers=False)"
   ]
  },
  {
   "cell_type": "code",
   "execution_count": 64,
   "metadata": {},
   "outputs": [],
   "source": [
    "#aggregate the election data to blue state and red state\n",
    "election_agged=DT_Effect(election_data)"
   ]
  },
  {
   "cell_type": "code",
   "execution_count": 65,
   "metadata": {},
   "outputs": [],
   "source": [
    "kickstarter_us=kickstarter_clean[kickstarter_clean['Country'].isin(['US'])]\n",
    "#kick_us_agged=Aggregate_Mean(kickstarter_us,['Trump_Election','Sup_Category','State','Created_Month'])\n",
    "kickstarter_us=kickstarter_us.merge(election_agged, on=['State'])"
   ]
  },
  {
   "cell_type": "code",
   "execution_count": 70,
   "metadata": {},
   "outputs": [],
   "source": [
    "kickstarter_ca=kickstarter_clean[kickstarter_clean['Country'].isin(['CA'])]"
   ]
  },
  {
   "cell_type": "code",
   "execution_count": 69,
   "metadata": {},
   "outputs": [
    {
     "data": {
      "text/plain": [
       "<matplotlib.axes._subplots.AxesSubplot at 0x1c0053b5828>"
      ]
     },
     "execution_count": 69,
     "metadata": {},
     "output_type": "execute_result"
    },
    {
     "data": {
      "image/png": "[encoded data removed]",
      "text/plain": [
       "<Figure size 432x288 with 1 Axes>"
      ]
     },
     "metadata": {
      "needs_background": "light"
     },
     "output_type": "display_data"
    }
   ],
   "source": [
    "sns.boxplot(x='Ideology_Bin', y='Pledge_Percentage', data=kickstarter_us, hue=\"Trump_Election\", showfliers=False)"
   ]
  },
  {
   "cell_type": "code",
   "execution_count": 72,
   "metadata": {},
   "outputs": [
    {
     "data": {
      "text/plain": [
       "<matplotlib.axes._subplots.AxesSubplot at 0x1c146408a90>"
      ]
     },
     "execution_count": 72,
     "metadata": {},
     "output_type": "execute_result"
    },
    {
     "data": {
      "image/png": "[encoded data removed]",
      "text/plain": [
       "<Figure size 432x288 with 1 Axes>"
      ]
     },
     "metadata": {
      "needs_background": "light"
     },
     "output_type": "display_data"
    }
   ],
   "source": [
    "sns.boxplot(x='Trump_Election', y='Pledge_Percentage', data=kickstarter_ca, showfliers=False)"
   ]
  },
  {
   "cell_type": "code",
   "execution_count": null,
   "metadata": {},
   "outputs": [],
   "source": [
    "#Take blue state, for example, are the sample means the same?"
   ]
  },
  {
   "cell_type": "code",
   "execution_count": 92,
   "metadata": {},
   "outputs": [],
   "source": [
    "Blue_Before_Trump=kickstarter_us[(kickstarter_us['Ideology_Bin']==\"Bluer\") & (kickstarter_us['Trump_Election']==0)]\n",
    "Blue_After_Trump=kickstarter_us[(kickstarter_us['Ideology_Bin']==\"Bluer\") & (kickstarter_us['Trump_Election']==1)]"
   ]
  },
  {
   "cell_type": "code",
   "execution_count": 101,
   "metadata": {},
   "outputs": [],
   "source": [
    "Blue_Before_Trump_Means=create_sample_dists(Blue_Before_Trump, 'Pledge_Percentage', 10000, 1000)\n",
    "Blue_After_Trump_Means=create_sample_dists(Blue_After_Trump, 'Pledge_Percentage', 10000, 1000)"
   ]
  },
  {
   "cell_type": "code",
   "execution_count": 102,
   "metadata": {},
   "outputs": [
    {
     "data": {
      "text/plain": [
       "<matplotlib.axes._subplots.AxesSubplot at 0x1c150759470>"
      ]
     },
     "execution_count": 102,
     "metadata": {},
     "output_type": "execute_result"
    },
    {
     "data": {
      "image/png": "[encoded data removed]",
      "text/plain": [
       "<Figure size 432x288 with 1 Axes>"
      ]
     },
     "metadata": {
      "needs_background": "light"
     },
     "output_type": "display_data"
    }
   ],
   "source": [
    "sns.kdeplot(data=Blue_Before_Trump_Means, shade=True, color=\"blue\",gridsize=1000)\n",
    "sns.kdeplot(data=Blue_After_Trump_Means, shade=True, color=\"red\",gridsize=1000)"
   ]
  },
  {
   "cell_type": "code",
   "execution_count": null,
   "metadata": {},
   "outputs": [],
   "source": [
    "#Us Vs Canada:"
   ]
  },
  {
   "cell_type": "code",
   "execution_count": 113,
   "metadata": {},
   "outputs": [],
   "source": [
    "US_Before_Trump_Means=create_sample_dists(kickstarter_us[(kickstarter_us['Trump_Election']==0)], 'Pledge_Percentage', 10000, 100)\n",
    "US_After_Trump_Means=create_sample_dists(kickstarter_us[(kickstarter_us['Trump_Election']==1)], 'Pledge_Percentage', 10000, 100)\n",
    "CA_Before_Trump_Means=create_sample_dists(kickstarter_ca[(kickstarter_ca['Trump_Election']==0)], 'Pledge_Percentage', 3000, 100)\n",
    "CA_After_Trump_Means=create_sample_dists(kickstarter_ca[(kickstarter_ca['Trump_Election']==1)], 'Pledge_Percentage', 2200, 100)"
   ]
  },
  {
   "cell_type": "code",
   "execution_count": 117,
   "metadata": {},
   "outputs": [
    {
     "data": {
      "text/plain": [
       "<matplotlib.axes._subplots.AxesSubplot at 0x1c1931ae240>"
      ]
     },
     "execution_count": 117,
     "metadata": {},
     "output_type": "execute_result"
    },
    {
     "data": {
      "image/png": "[encoded data removed]",
      "text/plain": [
       "<Figure size 432x288 with 1 Axes>"
      ]
     },
     "metadata": {
      "needs_background": "light"
     },
     "output_type": "display_data"
    }
   ],
   "source": [
    "sns.kdeplot(data=US_Before_Trump_Means, shade=True, color=\"blue\",gridsize=100)\n",
    "sns.kdeplot(data=US_After_Trump_Means, shade=True, color=\"red\",gridsize=100)\n",
    "sns.kdeplot(data=CA_Before_Trump_Means, shade=False, color=\"blue\",gridsize=100)\n",
    "sns.kdeplot(data=CA_After_Trump_Means, shade=False, color=\"red\",gridsize=100)"
   ]
  },
  {
   "cell_type": "code",
   "execution_count": 118,
   "metadata": {},
   "outputs": [
    {
     "data": {
      "text/plain": [
       "Ttest_indResult(statistic=3.6599928113538063, pvalue=0.00025252250517091186)"
      ]
     },
     "execution_count": 118,
     "metadata": {},
     "output_type": "execute_result"
    }
   ],
   "source": [
    "stats.ttest_ind(Blue_Before_Trump['Pledge_Percentage'],Blue_After_Trump['Pledge_Percentage'],equal_var=False)"
   ]
  },
  {
   "cell_type": "code",
   "execution_count": 128,
   "metadata": {},
   "outputs": [
    {
     "name": "stdout",
     "output_type": "stream",
     "text": [
      "                            OLS Regression Results                            \n",
      "==============================================================================\n",
      "Dep. Variable:      Pledge_Percentage   R-squared:                       0.086\n",
      "Model:                            OLS   Adj. R-squared:                  0.086\n",
      "Method:                 Least Squares   F-statistic:                     312.5\n",
      "Date:                Fri, 23 Aug 2019   Prob (F-statistic):               0.00\n",
      "Time:                        02:06:47   Log-Likelihood:            -5.5297e+05\n",
      "No. Observations:               83080   AIC:                         1.106e+06\n",
      "Df Residuals:                   83054   BIC:                         1.106e+06\n",
      "Df Model:                          25                                         \n",
      "Covariance Type:            nonrobust                                         \n",
      "========================================================================================================================================================================================\n",
      "                                                                                                                           coef    std err          t      P>|t|      [0.025      0.975]\n",
      "----------------------------------------------------------------------------------------------------------------------------------------------------------------------------------------\n",
      "Intercept                                                                                                               69.9326      2.407     29.057      0.000      65.216      74.650\n",
      "C(Sup_Category, Treatment(reference=\"Technology\"))[T.Art]                                                               33.1991      3.435      9.664      0.000      26.466      39.932\n",
      "C(Sup_Category, Treatment(reference=\"Technology\"))[T.Comics]                                                            85.5884      4.326     19.783      0.000      77.109      94.068\n",
      "C(Sup_Category, Treatment(reference=\"Technology\"))[T.Crafts]                                                            64.4301      4.704     13.696      0.000      55.209      73.651\n",
      "C(Sup_Category, Treatment(reference=\"Technology\"))[T.Design]                                                           148.9447      3.786     39.346      0.000     141.525     156.364\n",
      "C(Sup_Category, Treatment(reference=\"Technology\"))[T.Fashion]                                                            9.8366      3.978      2.473      0.013       2.041      17.633\n",
      "C(Sup_Category, Treatment(reference=\"Technology\"))[T.Film & Video]                                                      13.1379      3.639      3.610      0.000       6.005      20.271\n",
      "C(Sup_Category, Treatment(reference=\"Technology\"))[T.Food]                                                             -13.1152      3.823     -3.431      0.001     -20.608      -5.622\n",
      "C(Sup_Category, Treatment(reference=\"Technology\"))[T.Games]                                                            151.4828      3.444     43.980      0.000     144.732     158.234\n",
      "C(Sup_Category, Treatment(reference=\"Technology\"))[T.Music]                                                             -0.4662      3.386     -0.138      0.891      -7.103       6.171\n",
      "C(Sup_Category, Treatment(reference=\"Technology\"))[T.Photography]                                                      130.0640      8.368     15.543      0.000     113.663     146.465\n",
      "C(Sup_Category, Treatment(reference=\"Technology\"))[T.Publishing]                                                        24.0977      3.693      6.525      0.000      16.859      31.337\n",
      "C(Sup_Category, Treatment(reference=\"Technology\"))[T.Theater]                                                           -5.0148      4.297     -1.167      0.243     -13.437       3.407\n",
      "C(Trump_Election, Treatment(reference=0))[T.True]                                                                      -10.4936      4.083     -2.570      0.010     -18.497      -2.490\n",
      "C(Sup_Category, Treatment(reference=\"Technology\"))[T.Art]:C(Trump_Election, Treatment(reference=0))[T.True]             21.2413      5.614      3.783      0.000      10.237      32.246\n",
      "C(Sup_Category, Treatment(reference=\"Technology\"))[T.Comics]:C(Trump_Election, Treatment(reference=0))[T.True]           1.7344      7.305      0.237      0.812     -12.584      16.053\n",
      "C(Sup_Category, Treatment(reference=\"Technology\"))[T.Crafts]:C(Trump_Election, Treatment(reference=0))[T.True]          -9.7022      7.843     -1.237      0.216     -25.074       5.670\n",
      "C(Sup_Category, Treatment(reference=\"Technology\"))[T.Design]:C(Trump_Election, Treatment(reference=0))[T.True]           7.8819      6.368      1.238      0.216      -4.599      20.362\n",
      "C(Sup_Category, Treatment(reference=\"Technology\"))[T.Fashion]:C(Trump_Election, Treatment(reference=0))[T.True]         28.9135      6.714      4.306      0.000      15.754      42.073\n",
      "C(Sup_Category, Treatment(reference=\"Technology\"))[T.Film & Video]:C(Trump_Election, Treatment(reference=0))[T.True]    15.4055      6.115      2.519      0.012       3.420      27.391\n",
      "C(Sup_Category, Treatment(reference=\"Technology\"))[T.Food]:C(Trump_Election, Treatment(reference=0))[T.True]            -0.0554      6.417     -0.009      0.993     -12.633      12.522\n",
      "C(Sup_Category, Treatment(reference=\"Technology\"))[T.Games]:C(Trump_Election, Treatment(reference=0))[T.True]           25.4848      5.903      4.317      0.000      13.914      37.055\n",
      "C(Sup_Category, Treatment(reference=\"Technology\"))[T.Music]:C(Trump_Election, Treatment(reference=0))[T.True]           28.4625      5.720      4.976      0.000      17.252      39.673\n",
      "C(Sup_Category, Treatment(reference=\"Technology\"))[T.Photography]:C(Trump_Election, Treatment(reference=0))[T.True]    -46.9531     13.613     -3.449      0.001     -73.634     -20.273\n",
      "C(Sup_Category, Treatment(reference=\"Technology\"))[T.Publishing]:C(Trump_Election, Treatment(reference=0))[T.True]      12.8482      6.227      2.063      0.039       0.643      25.053\n",
      "C(Sup_Category, Treatment(reference=\"Technology\"))[T.Theater]:C(Trump_Election, Treatment(reference=0))[T.True]         11.8997      7.256      1.640      0.101      -2.321      26.121\n",
      "==============================================================================\n",
      "Omnibus:                    50356.067   Durbin-Watson:                   0.964\n",
      "Prob(Omnibus):                  0.000   Jarque-Bera (JB):           445761.498\n",
      "Skew:                           2.895   Prob(JB):                         0.00\n",
      "Kurtosis:                      12.759   Cond. No.                         30.1\n",
      "==============================================================================\n",
      "\n",
      "Warnings:\n",
      "[1] Standard Errors assume that the covariance matrix of the errors is correctly specified.\n"
     ]
    }
   ],
   "source": [
    "#f-test: does Trump's election affect all category the same\n",
    "reg = smf.ols(formula='Pledge_Percentage ~ C(Sup_Category, Treatment(reference=\"Technology\")) * C(Trump_Election, Treatment(reference=0))', data=kickstarter_us).fit()\n",
    "print(reg.summary())"
   ]
  },
  {
   "cell_type": "markdown",
   "metadata": {},
   "source": [
    "#### Findings & Application"
   ]
  },
  {
   "cell_type": "markdown",
   "metadata": {},
   "source": [
    "#### Limitations"
   ]
  },
  {
   "cell_type": "markdown",
   "metadata": {},
   "source": [
    "#### Next Steps"
   ]
  },
  {
   "cell_type": "code",
   "execution_count": null,
   "metadata": {},
   "outputs": [],
   "source": []
  },
  {
   "cell_type": "code",
   "execution_count": null,
   "metadata": {},
   "outputs": [],
   "source": []
  }
 ],
 "metadata": {
  "kernelspec": {
   "display_name": "Python 3",
   "language": "python",
   "name": "python3"
  },
  "language_info": {
   "codemirror_mode": {
    "name": "ipython",
    "version": 3
   },
   "file_extension": ".py",
   "mimetype": "text/x-python",
   "name": "python",
   "nbconvert_exporter": "python",
   "pygments_lexer": "ipython3",
   "version": "3.7.3"
  }
 },
 "nbformat": 4,
 "nbformat_minor": 2
}
