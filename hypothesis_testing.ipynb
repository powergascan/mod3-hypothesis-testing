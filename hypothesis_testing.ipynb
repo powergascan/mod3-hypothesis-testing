{
 "cells": [
  {
   "cell_type": "markdown",
   "metadata": {},
   "source": [
    "<img src=\"./img/DC_Gray _Logo.png\">"
   ]
  },
  {
   "cell_type": "markdown",
   "metadata": {},
   "source": [
    "<center><h2> Module 3 Project</h2></center>\n",
    "<center><h2> Hypothesis Testing</h2></center>\n",
    "\n",
    "**Authors:**"
   ]
  },
  {
   "cell_type": "markdown",
   "metadata": {},
   "source": [
    "#### Business Problem"
   ]
  },
  {
   "cell_type": "markdown",
   "metadata": {},
   "source": [
    "#### Analysis"
   ]
  },
  {
   "cell_type": "code",
   "execution_count": 8,
   "metadata": {},
   "outputs": [
    {
     "name": "stdout",
     "output_type": "stream",
     "text": [
      "csv saved to data\\dirty_data.csv\n"
     ]
    }
   ],
   "source": [
    "import data_precleaning as dp\n",
    "dp.generate_kickstarter_csv('data/Kickstarter_2019-08-15T03_20_03_022Z.json', 'dirty_data')"
   ]
  },
  {
   "cell_type": "code",
   "execution_count": 9,
   "metadata": {},
   "outputs": [],
   "source": [
    "import pandas as pd\n",
    "import data_cleaning as dc\n",
    "dirty_data = pd.read_csv('./data/dirty_data.csv')\n",
    "cleaned_data = dc.full_clean(dirty_data)"
   ]
  },
  {
   "cell_type": "code",
   "execution_count": 10,
   "metadata": {},
   "outputs": [],
   "source": [
    "import success_metrics as sm\n",
    "country_mean_pledge_rate = sm.pledge_rate_mean(cleaned_data)"
   ]
  },
  {
   "cell_type": "code",
   "execution_count": 11,
   "metadata": {},
   "outputs": [
    {
     "name": "stdout",
     "output_type": "stream",
     "text": [
      "0 \r",
      "1 \r",
      "2 \r",
      "3 \r",
      "4 \r"
     ]
    },
    {
     "name": "stderr",
     "output_type": "stream",
     "text": [
      "C:\\Users\\Kaleb\\Anaconda3\\lib\\site-packages\\pandas\\core\\indexing.py:189: SettingWithCopyWarning: \n",
      "A value is trying to be set on a copy of a slice from a DataFrame\n",
      "\n",
      "See the caveats in the documentation: http://pandas.pydata.org/pandas-docs/stable/indexing.html#indexing-view-versus-copy\n",
      "  self._setitem_with_indexer(indexer, value)\n"
     ]
    },
    {
     "name": "stdout",
     "output_type": "stream",
     "text": [
      "236    \r"
     ]
    }
   ],
   "source": [
    "import comparison_attribute as ca\n",
    "trust_and_country_pledge_rate = ca.add_trustdata(country_mean_pledge_rate)"
   ]
  },
  {
   "cell_type": "code",
   "execution_count": 20,
   "metadata": {
    "scrolled": false
   },
   "outputs": [
    {
     "data": {
      "text/html": [
       "<div>\n",
       "<style scoped>\n",
       "    .dataframe tbody tr th:only-of-type {\n",
       "        vertical-align: middle;\n",
       "    }\n",
       "\n",
       "    .dataframe tbody tr th {\n",
       "        vertical-align: top;\n",
       "    }\n",
       "\n",
       "    .dataframe thead th {\n",
       "        text-align: right;\n",
       "    }\n",
       "</style>\n",
       "<table border=\"1\" class=\"dataframe\">\n",
       "  <thead>\n",
       "    <tr style=\"text-align: right;\">\n",
       "      <th></th>\n",
       "      <th>Unnamed: 0</th>\n",
       "      <th>Backers</th>\n",
       "      <th>Goal</th>\n",
       "      <th>Pledged</th>\n",
       "      <th>Pledge Rate</th>\n",
       "      <th>Trust in others (%)</th>\n",
       "      <th>Trust Bin</th>\n",
       "    </tr>\n",
       "  </thead>\n",
       "  <tbody>\n",
       "    <tr>\n",
       "      <th>AU</th>\n",
       "      <td>103010.905744</td>\n",
       "      <td>103.554005</td>\n",
       "      <td>7.647694e+04</td>\n",
       "      <td>7289.199340</td>\n",
       "      <td>0.095312</td>\n",
       "      <td>54.43383</td>\n",
       "      <td>High</td>\n",
       "    </tr>\n",
       "    <tr>\n",
       "      <th>CA</th>\n",
       "      <td>104554.637668</td>\n",
       "      <td>125.714110</td>\n",
       "      <td>3.980993e+04</td>\n",
       "      <td>8425.711502</td>\n",
       "      <td>0.211648</td>\n",
       "      <td>41.11111</td>\n",
       "      <td>Low</td>\n",
       "    </tr>\n",
       "    <tr>\n",
       "      <th>CH</th>\n",
       "      <td>103644.348770</td>\n",
       "      <td>110.567294</td>\n",
       "      <td>3.550795e+05</td>\n",
       "      <td>16621.245901</td>\n",
       "      <td>0.046810</td>\n",
       "      <td>49.42904</td>\n",
       "      <td>High</td>\n",
       "    </tr>\n",
       "    <tr>\n",
       "      <th>DE</th>\n",
       "      <td>104235.078032</td>\n",
       "      <td>148.783150</td>\n",
       "      <td>6.076986e+04</td>\n",
       "      <td>13904.567973</td>\n",
       "      <td>0.228807</td>\n",
       "      <td>42.03041</td>\n",
       "      <td>High</td>\n",
       "    </tr>\n",
       "    <tr>\n",
       "      <th>ES</th>\n",
       "      <td>101514.757068</td>\n",
       "      <td>142.604696</td>\n",
       "      <td>3.855139e+04</td>\n",
       "      <td>11683.540668</td>\n",
       "      <td>0.303064</td>\n",
       "      <td>19.01944</td>\n",
       "      <td>Low</td>\n",
       "    </tr>\n",
       "    <tr>\n",
       "      <th>FR</th>\n",
       "      <td>104142.298214</td>\n",
       "      <td>146.139628</td>\n",
       "      <td>3.329725e+04</td>\n",
       "      <td>14123.552108</td>\n",
       "      <td>0.424166</td>\n",
       "      <td>18.65597</td>\n",
       "      <td>Low</td>\n",
       "    </tr>\n",
       "    <tr>\n",
       "      <th>GB</th>\n",
       "      <td>103626.996297</td>\n",
       "      <td>123.296446</td>\n",
       "      <td>1.997065e+04</td>\n",
       "      <td>9234.153880</td>\n",
       "      <td>0.462386</td>\n",
       "      <td>29.96146</td>\n",
       "      <td>Low</td>\n",
       "    </tr>\n",
       "    <tr>\n",
       "      <th>HK</th>\n",
       "      <td>103601.433302</td>\n",
       "      <td>250.620624</td>\n",
       "      <td>1.247535e+05</td>\n",
       "      <td>26279.273263</td>\n",
       "      <td>0.210650</td>\n",
       "      <td>48.33837</td>\n",
       "      <td>High</td>\n",
       "    </tr>\n",
       "    <tr>\n",
       "      <th>IT</th>\n",
       "      <td>104189.006620</td>\n",
       "      <td>97.218039</td>\n",
       "      <td>5.065724e+04</td>\n",
       "      <td>9111.350507</td>\n",
       "      <td>0.179863</td>\n",
       "      <td>28.25203</td>\n",
       "      <td>Low</td>\n",
       "    </tr>\n",
       "    <tr>\n",
       "      <th>JP</th>\n",
       "      <td>106977.739030</td>\n",
       "      <td>188.224018</td>\n",
       "      <td>2.085968e+06</td>\n",
       "      <td>18098.619180</td>\n",
       "      <td>0.008676</td>\n",
       "      <td>35.93942</td>\n",
       "      <td>Low</td>\n",
       "    </tr>\n",
       "    <tr>\n",
       "      <th>MX</th>\n",
       "      <td>102059.195984</td>\n",
       "      <td>34.144578</td>\n",
       "      <td>2.106013e+05</td>\n",
       "      <td>1998.901839</td>\n",
       "      <td>0.009491</td>\n",
       "      <td>12.40620</td>\n",
       "      <td>Low</td>\n",
       "    </tr>\n",
       "    <tr>\n",
       "      <th>NL</th>\n",
       "      <td>105763.954955</td>\n",
       "      <td>126.149775</td>\n",
       "      <td>6.651696e+04</td>\n",
       "      <td>12763.906392</td>\n",
       "      <td>0.191890</td>\n",
       "      <td>66.17570</td>\n",
       "      <td>High</td>\n",
       "    </tr>\n",
       "    <tr>\n",
       "      <th>NO</th>\n",
       "      <td>105556.100402</td>\n",
       "      <td>102.951807</td>\n",
       "      <td>1.341882e+05</td>\n",
       "      <td>8378.486746</td>\n",
       "      <td>0.062438</td>\n",
       "      <td>73.73047</td>\n",
       "      <td>High</td>\n",
       "    </tr>\n",
       "    <tr>\n",
       "      <th>NZ</th>\n",
       "      <td>101532.590618</td>\n",
       "      <td>102.910448</td>\n",
       "      <td>2.024394e+04</td>\n",
       "      <td>7411.934185</td>\n",
       "      <td>0.366131</td>\n",
       "      <td>56.22733</td>\n",
       "      <td>High</td>\n",
       "    </tr>\n",
       "    <tr>\n",
       "      <th>SE</th>\n",
       "      <td>103133.412342</td>\n",
       "      <td>130.821178</td>\n",
       "      <td>2.936377e+05</td>\n",
       "      <td>11240.890962</td>\n",
       "      <td>0.038281</td>\n",
       "      <td>63.75839</td>\n",
       "      <td>High</td>\n",
       "    </tr>\n",
       "    <tr>\n",
       "      <th>SG</th>\n",
       "      <td>103644.902098</td>\n",
       "      <td>168.216783</td>\n",
       "      <td>1.972304e+04</td>\n",
       "      <td>9917.321494</td>\n",
       "      <td>0.502829</td>\n",
       "      <td>38.51626</td>\n",
       "      <td>Low</td>\n",
       "    </tr>\n",
       "    <tr>\n",
       "      <th>US</th>\n",
       "      <td>103828.988789</td>\n",
       "      <td>153.496423</td>\n",
       "      <td>4.095432e+04</td>\n",
       "      <td>14089.571362</td>\n",
       "      <td>0.344031</td>\n",
       "      <td>38.17277</td>\n",
       "      <td>Low</td>\n",
       "    </tr>\n",
       "  </tbody>\n",
       "</table>\n",
       "</div>"
      ],
      "text/plain": [
       "       Unnamed: 0     Backers          Goal       Pledged  Pledge Rate  \\\n",
       "AU  103010.905744  103.554005  7.647694e+04   7289.199340     0.095312   \n",
       "CA  104554.637668  125.714110  3.980993e+04   8425.711502     0.211648   \n",
       "CH  103644.348770  110.567294  3.550795e+05  16621.245901     0.046810   \n",
       "DE  104235.078032  148.783150  6.076986e+04  13904.567973     0.228807   \n",
       "ES  101514.757068  142.604696  3.855139e+04  11683.540668     0.303064   \n",
       "FR  104142.298214  146.139628  3.329725e+04  14123.552108     0.424166   \n",
       "GB  103626.996297  123.296446  1.997065e+04   9234.153880     0.462386   \n",
       "HK  103601.433302  250.620624  1.247535e+05  26279.273263     0.210650   \n",
       "IT  104189.006620   97.218039  5.065724e+04   9111.350507     0.179863   \n",
       "JP  106977.739030  188.224018  2.085968e+06  18098.619180     0.008676   \n",
       "MX  102059.195984   34.144578  2.106013e+05   1998.901839     0.009491   \n",
       "NL  105763.954955  126.149775  6.651696e+04  12763.906392     0.191890   \n",
       "NO  105556.100402  102.951807  1.341882e+05   8378.486746     0.062438   \n",
       "NZ  101532.590618  102.910448  2.024394e+04   7411.934185     0.366131   \n",
       "SE  103133.412342  130.821178  2.936377e+05  11240.890962     0.038281   \n",
       "SG  103644.902098  168.216783  1.972304e+04   9917.321494     0.502829   \n",
       "US  103828.988789  153.496423  4.095432e+04  14089.571362     0.344031   \n",
       "\n",
       "    Trust in others (%) Trust Bin  \n",
       "AU             54.43383      High  \n",
       "CA             41.11111       Low  \n",
       "CH             49.42904      High  \n",
       "DE             42.03041      High  \n",
       "ES             19.01944       Low  \n",
       "FR             18.65597       Low  \n",
       "GB             29.96146       Low  \n",
       "HK             48.33837      High  \n",
       "IT             28.25203       Low  \n",
       "JP             35.93942       Low  \n",
       "MX             12.40620       Low  \n",
       "NL             66.17570      High  \n",
       "NO             73.73047      High  \n",
       "NZ             56.22733      High  \n",
       "SE             63.75839      High  \n",
       "SG             38.51626       Low  \n",
       "US             38.17277       Low  "
      ]
     },
     "execution_count": 20,
     "metadata": {},
     "output_type": "execute_result"
    }
   ],
   "source": [
    "trust_and_country_pledge_rate"
   ]
  },
  {
   "cell_type": "code",
   "execution_count": 36,
   "metadata": {},
   "outputs": [
    {
     "name": "stdout",
     "output_type": "stream",
     "text": [
      "Based on the p value of 0.13447170637167355 and our alpha of 0.15 we reject the null hypothesis.\n",
      "\n",
      "Due to these results, we can state that there is a difference between the pledge rate in high-trust and low-trust countries\n",
      "with an effect size, cohen's d, of -0.76 and power of None.\n"
     ]
    }
   ],
   "source": [
    "import hypothesis_tests as ht\n",
    "hypothesis_tests = ht.hypothesis_test_one(alpha = 0.15, cleaned_data = trust_and_country_pledge_rate)"
   ]
  },
  {
   "cell_type": "code",
   "execution_count": 44,
   "metadata": {},
   "outputs": [
    {
     "data": {
      "text/plain": [
       "0.7704912379683824"
      ]
     },
     "execution_count": 44,
     "metadata": {},
     "output_type": "execute_result"
    }
   ],
   "source": [
    "def power_analysis(coh_d, dataset, alpha):\n",
    "    from statsmodels.stats.power import TTestIndPower\n",
    "    power_analysis = TTestIndPower()\n",
    "    power = power_analysis.solve_power(effect_size=coh_d, nobs1=len(dataset), alpha=0.15)\n",
    "    return power\n",
    "power_analysis(coh_d=-0.76, dataset=trust_and_country_pledge_rate, alpha=0.15)"
   ]
  },
  {
   "cell_type": "code",
   "execution_count": 17,
   "metadata": {},
   "outputs": [
    {
     "data": {
      "text/plain": [
       "<matplotlib.collections.PathCollection at 0x27e01609550>"
      ]
     },
     "execution_count": 17,
     "metadata": {},
     "output_type": "execute_result"
    },
    {
     "data": {
      "image/png": "[encoded data removed]",
      "text/plain": [
       "<Figure size 432x288 with 1 Axes>"
      ]
     },
     "metadata": {
      "needs_background": "light"
     },
     "output_type": "display_data"
    }
   ],
   "source": [
    "import matplotlib.pyplot as plt\n",
    "plt.scatter(trust_and_country_pledge_rate['Trust in others (%)'], trust_and_country_pledge_rate['Pledge Rate'])"
   ]
  },
  {
   "cell_type": "markdown",
   "metadata": {},
   "source": [
    "#### Findings & Application"
   ]
  },
  {
   "cell_type": "markdown",
   "metadata": {},
   "source": [
    "#### Limitations"
   ]
  },
  {
   "cell_type": "markdown",
   "metadata": {},
   "source": [
    "#### Next Steps"
   ]
  },
  {
   "cell_type": "code",
   "execution_count": 35,
   "metadata": {},
   "outputs": [
    {
     "data": {
      "text/plain": [
       "<module 'hypothesis_tests' from 'C:\\\\Users\\\\Kaleb\\\\Box\\\\GitHub\\\\mod3-hypothesis-testing\\\\hypothesis_tests.py'>"
      ]
     },
     "execution_count": 35,
     "metadata": {},
     "output_type": "execute_result"
    }
   ],
   "source": [
    "import importlib\n",
    "importlib.reload(ht)"
   ]
  },
  {
   "cell_type": "code",
   "execution_count": null,
   "metadata": {},
   "outputs": [],
   "source": []
  }
 ],
 "metadata": {
  "kernelspec": {
   "display_name": "Python 3",
   "language": "python",
   "name": "python3"
  },
  "language_info": {
   "codemirror_mode": {
    "name": "ipython",
    "version": 3
   },
   "file_extension": ".py",
   "mimetype": "text/x-python",
   "name": "python",
   "nbconvert_exporter": "python",
   "pygments_lexer": "ipython3",
   "version": "3.7.1"
  }
 },
 "nbformat": 4,
 "nbformat_minor": 2
}
