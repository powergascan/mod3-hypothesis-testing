{
 "cells": [
  {
   "cell_type": "markdown",
   "metadata": {},
   "source": [
    "<img src=\"./img/DC_Gray _Logo.png\">"
   ]
  },
  {
   "cell_type": "markdown",
   "metadata": {},
   "source": [
    "<center><h2> Module 3 Project</h2></center>\n",
    "<center><h2> Hypothesis Testing</h2></center>\n",
    "\n",
    "**Authors:**"
   ]
  },
  {
   "cell_type": "markdown",
   "metadata": {},
   "source": [
    "#### Business Problem"
   ]
  },
  {
   "cell_type": "markdown",
   "metadata": {},
   "source": [
    "#### Analysis"
   ]
  },
  {
   "cell_type": "code",
   "execution_count": 1,
   "metadata": {},
   "outputs": [
    {
     "name": "stdout",
     "output_type": "stream",
     "text": [
      "csv saved to data\\dirty_data.csv\n"
     ]
    }
   ],
   "source": [
    "import data_precleaning as dp\n",
    "dp.generate_kickstarter_csv('data/sample_kickstarter.json', 'dirty_data')"
   ]
  },
  {
   "cell_type": "code",
   "execution_count": 2,
   "metadata": {},
   "outputs": [],
   "source": [
    "import pandas as pd\n",
    "import data_cleaning as dc\n",
    "dirty_data = pd.read_csv('./data/dirty_data.csv')\n",
    "cleaned_data = dc.full_clean(dirty_data)"
   ]
  },
  {
   "cell_type": "code",
   "execution_count": 3,
   "metadata": {},
   "outputs": [],
   "source": [
    "import success_metrics as sm\n",
    "country_mean_pledge_rate = sm.pledge_rate_mean(cleaned_data)"
   ]
  },
  {
   "cell_type": "code",
   "execution_count": 4,
   "metadata": {},
   "outputs": [
    {
     "name": "stdout",
     "output_type": "stream",
     "text": [
      "0 \r",
      "1 \r",
      "2 \r",
      "3 \r",
      "4 \r",
      "5 \r",
      "6 \r",
      "7 \r",
      "8 \r",
      "9 \r",
      "10 \r",
      "11 \r",
      "12 \r"
     ]
    },
    {
     "name": "stderr",
     "output_type": "stream",
     "text": [
      "C:\\Users\\Kaleb\\Anaconda3\\lib\\site-packages\\pandas\\core\\indexing.py:189: SettingWithCopyWarning: \n",
      "A value is trying to be set on a copy of a slice from a DataFrame\n",
      "\n",
      "See the caveats in the documentation: http://pandas.pydata.org/pandas-docs/stable/indexing.html#indexing-view-versus-copy\n",
      "  self._setitem_with_indexer(indexer, value)\n"
     ]
    },
    {
     "name": "stdout",
     "output_type": "stream",
     "text": [
      "236   \r"
     ]
    }
   ],
   "source": [
    "import comparison_attribute as ca\n",
    "trust_and_country_pledge_rate = ca.add_trustdata(country_mean_pledge_rate)"
   ]
  },
  {
   "cell_type": "code",
   "execution_count": 5,
   "metadata": {},
   "outputs": [
    {
     "data": {
      "text/html": [
       "<div>\n",
       "<style scoped>\n",
       "    .dataframe tbody tr th:only-of-type {\n",
       "        vertical-align: middle;\n",
       "    }\n",
       "\n",
       "    .dataframe tbody tr th {\n",
       "        vertical-align: top;\n",
       "    }\n",
       "\n",
       "    .dataframe thead th {\n",
       "        text-align: right;\n",
       "    }\n",
       "</style>\n",
       "<table border=\"1\" class=\"dataframe\">\n",
       "  <thead>\n",
       "    <tr style=\"text-align: right;\">\n",
       "      <th></th>\n",
       "      <th>Unnamed: 0</th>\n",
       "      <th>Backers</th>\n",
       "      <th>Goal</th>\n",
       "      <th>Pledged</th>\n",
       "      <th>Pledge Rate</th>\n",
       "      <th>Trust in others (%)</th>\n",
       "      <th>Trust Bin</th>\n",
       "    </tr>\n",
       "  </thead>\n",
       "  <tbody>\n",
       "    <tr>\n",
       "      <th>AU</th>\n",
       "      <td>2470.597403</td>\n",
       "      <td>16.246753</td>\n",
       "      <td>463753.441558</td>\n",
       "      <td>975.691706</td>\n",
       "      <td>0.002104</td>\n",
       "      <td>54.43383</td>\n",
       "      <td>High</td>\n",
       "    </tr>\n",
       "    <tr>\n",
       "      <th>CA</th>\n",
       "      <td>2684.202970</td>\n",
       "      <td>25.975248</td>\n",
       "      <td>513325.673267</td>\n",
       "      <td>1348.402888</td>\n",
       "      <td>0.002627</td>\n",
       "      <td>41.11111</td>\n",
       "      <td>Low</td>\n",
       "    </tr>\n",
       "    <tr>\n",
       "      <th>CH</th>\n",
       "      <td>2681.000000</td>\n",
       "      <td>29.500000</td>\n",
       "      <td>11462.000000</td>\n",
       "      <td>2371.176381</td>\n",
       "      <td>0.206873</td>\n",
       "      <td>49.42904</td>\n",
       "      <td>High</td>\n",
       "    </tr>\n",
       "    <tr>\n",
       "      <th>DE</th>\n",
       "      <td>1905.103448</td>\n",
       "      <td>42.586207</td>\n",
       "      <td>13096.000000</td>\n",
       "      <td>3798.143017</td>\n",
       "      <td>0.290023</td>\n",
       "      <td>42.03041</td>\n",
       "      <td>Low</td>\n",
       "    </tr>\n",
       "    <tr>\n",
       "      <th>ES</th>\n",
       "      <td>2307.631579</td>\n",
       "      <td>141.315789</td>\n",
       "      <td>13963.157895</td>\n",
       "      <td>8964.255410</td>\n",
       "      <td>0.641993</td>\n",
       "      <td>19.01944</td>\n",
       "      <td>Low</td>\n",
       "    </tr>\n",
       "    <tr>\n",
       "      <th>FR</th>\n",
       "      <td>2162.074074</td>\n",
       "      <td>18.888889</td>\n",
       "      <td>87264.074074</td>\n",
       "      <td>1015.118957</td>\n",
       "      <td>0.011633</td>\n",
       "      <td>18.65597</td>\n",
       "      <td>Low</td>\n",
       "    </tr>\n",
       "    <tr>\n",
       "      <th>GB</th>\n",
       "      <td>2632.490644</td>\n",
       "      <td>31.729730</td>\n",
       "      <td>3742.948025</td>\n",
       "      <td>2229.665114</td>\n",
       "      <td>0.595698</td>\n",
       "      <td>29.96146</td>\n",
       "      <td>Low</td>\n",
       "    </tr>\n",
       "    <tr>\n",
       "      <th>HK</th>\n",
       "      <td>2294.000000</td>\n",
       "      <td>1.000000</td>\n",
       "      <td>10000.000000</td>\n",
       "      <td>3.866663</td>\n",
       "      <td>0.000387</td>\n",
       "      <td>48.33837</td>\n",
       "      <td>High</td>\n",
       "    </tr>\n",
       "    <tr>\n",
       "      <th>IT</th>\n",
       "      <td>2465.413793</td>\n",
       "      <td>11.000000</td>\n",
       "      <td>147934.482759</td>\n",
       "      <td>869.485552</td>\n",
       "      <td>0.005878</td>\n",
       "      <td>28.25203</td>\n",
       "      <td>Low</td>\n",
       "    </tr>\n",
       "    <tr>\n",
       "      <th>NL</th>\n",
       "      <td>2231.250000</td>\n",
       "      <td>12.111111</td>\n",
       "      <td>34288.444444</td>\n",
       "      <td>900.233954</td>\n",
       "      <td>0.026255</td>\n",
       "      <td>66.17570</td>\n",
       "      <td>High</td>\n",
       "    </tr>\n",
       "    <tr>\n",
       "      <th>NO</th>\n",
       "      <td>3032.000000</td>\n",
       "      <td>3.444444</td>\n",
       "      <td>52611.111111</td>\n",
       "      <td>105.001269</td>\n",
       "      <td>0.001996</td>\n",
       "      <td>73.73047</td>\n",
       "      <td>High</td>\n",
       "    </tr>\n",
       "    <tr>\n",
       "      <th>NZ</th>\n",
       "      <td>2755.125000</td>\n",
       "      <td>41.250000</td>\n",
       "      <td>3903.187500</td>\n",
       "      <td>2132.277713</td>\n",
       "      <td>0.546291</td>\n",
       "      <td>56.22733</td>\n",
       "      <td>High</td>\n",
       "    </tr>\n",
       "    <tr>\n",
       "      <th>SE</th>\n",
       "      <td>2270.148148</td>\n",
       "      <td>46.111111</td>\n",
       "      <td>33595.851852</td>\n",
       "      <td>2830.824929</td>\n",
       "      <td>0.084261</td>\n",
       "      <td>63.75839</td>\n",
       "      <td>High</td>\n",
       "    </tr>\n",
       "    <tr>\n",
       "      <th>US</th>\n",
       "      <td>2484.801452</td>\n",
       "      <td>42.612919</td>\n",
       "      <td>23139.103310</td>\n",
       "      <td>3002.937849</td>\n",
       "      <td>0.129778</td>\n",
       "      <td>38.17277</td>\n",
       "      <td>Low</td>\n",
       "    </tr>\n",
       "  </tbody>\n",
       "</table>\n",
       "</div>"
      ],
      "text/plain": [
       "     Unnamed: 0     Backers           Goal      Pledged  Pledge Rate  \\\n",
       "AU  2470.597403   16.246753  463753.441558   975.691706     0.002104   \n",
       "CA  2684.202970   25.975248  513325.673267  1348.402888     0.002627   \n",
       "CH  2681.000000   29.500000   11462.000000  2371.176381     0.206873   \n",
       "DE  1905.103448   42.586207   13096.000000  3798.143017     0.290023   \n",
       "ES  2307.631579  141.315789   13963.157895  8964.255410     0.641993   \n",
       "FR  2162.074074   18.888889   87264.074074  1015.118957     0.011633   \n",
       "GB  2632.490644   31.729730    3742.948025  2229.665114     0.595698   \n",
       "HK  2294.000000    1.000000   10000.000000     3.866663     0.000387   \n",
       "IT  2465.413793   11.000000  147934.482759   869.485552     0.005878   \n",
       "NL  2231.250000   12.111111   34288.444444   900.233954     0.026255   \n",
       "NO  3032.000000    3.444444   52611.111111   105.001269     0.001996   \n",
       "NZ  2755.125000   41.250000    3903.187500  2132.277713     0.546291   \n",
       "SE  2270.148148   46.111111   33595.851852  2830.824929     0.084261   \n",
       "US  2484.801452   42.612919   23139.103310  3002.937849     0.129778   \n",
       "\n",
       "    Trust in others (%) Trust Bin  \n",
       "AU             54.43383      High  \n",
       "CA             41.11111       Low  \n",
       "CH             49.42904      High  \n",
       "DE             42.03041       Low  \n",
       "ES             19.01944       Low  \n",
       "FR             18.65597       Low  \n",
       "GB             29.96146       Low  \n",
       "HK             48.33837      High  \n",
       "IT             28.25203       Low  \n",
       "NL             66.17570      High  \n",
       "NO             73.73047      High  \n",
       "NZ             56.22733      High  \n",
       "SE             63.75839      High  \n",
       "US             38.17277       Low  "
      ]
     },
     "execution_count": 5,
     "metadata": {},
     "output_type": "execute_result"
    }
   ],
   "source": [
    "trust_and_country_pledge_rate"
   ]
  },
  {
   "cell_type": "markdown",
   "metadata": {},
   "source": [
    "#### Findings & Application"
   ]
  },
  {
   "cell_type": "markdown",
   "metadata": {},
   "source": [
    "#### Limitations"
   ]
  },
  {
   "cell_type": "markdown",
   "metadata": {},
   "source": [
    "#### Next Steps"
   ]
  },
  {
   "cell_type": "code",
   "execution_count": null,
   "metadata": {},
   "outputs": [],
   "source": []
  }
 ],
 "metadata": {
  "kernelspec": {
   "display_name": "Python 3",
   "language": "python",
   "name": "python3"
  },
  "language_info": {
   "codemirror_mode": {
    "name": "ipython",
    "version": 3
   },
   "file_extension": ".py",
   "mimetype": "text/x-python",
   "name": "python",
   "nbconvert_exporter": "python",
   "pygments_lexer": "ipython3",
   "version": "3.7.1"
  }
 },
 "nbformat": 4,
 "nbformat_minor": 2
}
