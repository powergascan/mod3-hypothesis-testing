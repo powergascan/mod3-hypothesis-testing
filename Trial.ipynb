{
 "cells": [
  {
   "cell_type": "code",
   "execution_count": 1,
   "metadata": {},
   "outputs": [],
   "source": [
    "%load_ext autoreload\n",
    "%autoreload 2"
   ]
  },
  {
   "cell_type": "code",
   "execution_count": 2,
   "metadata": {},
   "outputs": [],
   "source": [
    "from data_precleaning import *\n",
    "from data_cleaning import *\n",
    "from comparison_attribute import *\n",
    "from aggregation import *\n",
    "import pandas as pd\n",
    "import matplotlib.pyplot as plt\n",
    "import seaborn as sns"
   ]
  },
  {
   "cell_type": "code",
   "execution_count": 3,
   "metadata": {},
   "outputs": [],
   "source": [
    "list_of_files=json_filter(\"json_data\")\n",
    "csv_list=[]\n",
    "for i in list_of_files:\n",
    "    jsons=json_generator(i)\n",
    "    csv_list.append(generate_kickstarter_csv(jsons))"
   ]
  },
  {
   "cell_type": "code",
   "execution_count": 65,
   "metadata": {},
   "outputs": [],
   "source": [
    "df=kickstarter_concat(csv_list,\"Trial_Pickle\")"
   ]
  },
  {
   "cell_type": "code",
   "execution_count": 79,
   "metadata": {},
   "outputs": [],
   "source": [
    "df_cleaned=full_clean(df)"
   ]
  },
  {
   "cell_type": "code",
   "execution_count": 77,
   "metadata": {},
   "outputs": [],
   "source": [
    "from datetime import datetime"
   ]
  },
  {
   "cell_type": "code",
   "execution_count": 81,
   "metadata": {},
   "outputs": [
    {
     "data": {
      "text/plain": [
       "Timestamp('2016-07-01 00:00:00')"
      ]
     },
     "execution_count": 81,
     "metadata": {},
     "output_type": "execute_result"
    }
   ],
   "source": [
    "df_cleaned['Created_Month'].min()"
   ]
  },
  {
   "cell_type": "code",
   "execution_count": 111,
   "metadata": {},
   "outputs": [],
   "source": [
    "df_cleaned=pd.read_pickle(\"data/cleaned_df.pickle\")"
   ]
  },
  {
   "cell_type": "code",
   "execution_count": 112,
   "metadata": {},
   "outputs": [],
   "source": [
    "df_cleaned['Created_Month']=df_cleaned['Created_Month'].dt.date"
   ]
  },
  {
   "cell_type": "code",
   "execution_count": 113,
   "metadata": {},
   "outputs": [],
   "source": [
    "trustdata = pd.read_csv('data/self-reported-trust-attitudes.csv')"
   ]
  },
  {
   "cell_type": "code",
   "execution_count": 114,
   "metadata": {},
   "outputs": [
    {
     "name": "stdout",
     "output_type": "stream",
     "text": [
      "We use the year(s) [2014] in the trust data\n",
      "There are 98 countries in the trust data\n",
      "After merge, there are 85 countries in the country-trust-funding data\n"
     ]
    }
   ],
   "source": [
    "trust_funding_data=add_trustdata(trustdata, df_cleaned)"
   ]
  },
  {
   "cell_type": "code",
   "execution_count": 115,
   "metadata": {},
   "outputs": [
    {
     "data": {
      "text/plain": [
       "(166465, 17)"
      ]
     },
     "execution_count": 115,
     "metadata": {},
     "output_type": "execute_result"
    }
   ],
   "source": [
    "df_cleaned.shape"
   ]
  },
  {
   "cell_type": "code",
   "execution_count": 116,
   "metadata": {},
   "outputs": [
    {
     "data": {
      "text/plain": [
       "array(['US', 'CA', 'IT', 'NL', 'HU', 'DE', 'TT', 'GB', 'FR', 'ES', 'DK',\n",
       "       'SI', 'AU', 'RS', 'NO', 'CH', 'HK', 'AT', 'IL', 'KH', 'PY', 'IE',\n",
       "       'MX', 'PL', 'VN', 'NZ', 'BE', 'GY', 'PE', 'KR', 'IN', 'ZA', 'SE',\n",
       "       'KZ', 'BG', 'LT', 'CV', 'TW', 'SG', 'UA', 'JP', 'MK', 'GH', 'GE',\n",
       "       'NP', 'LA', 'BR', 'PH', 'ZM', 'SL', 'ET', 'IS', 'HT', 'ML', 'HR',\n",
       "       'LV', 'GP', 'RO', 'TR', 'PR', 'RU', 'ID', 'JO', 'CZ', 'DM', 'CO',\n",
       "       'CN', 'EG', 'NG', 'AE', 'UG', 'GR', 'TH', 'EC', 'GU', 'BW', 'BT',\n",
       "       'NE', 'CR', 'EE', 'CU', 'IR', 'LU', 'VI', 'BA', 'SV', 'IQ', 'CL',\n",
       "       'TZ', 'BY', 'MA', 'RW', 'KE', 'MU', 'AF', 'MD', 'SJ', 'MW', 'PT',\n",
       "       'CY', 'VE', 'AR', 'ZW', 'MG', 'GT', 'MY', 'NA', 'MT', 'FI', 'DO',\n",
       "       'AQ', 'LK', 'SK', 'CM', 'AG', 'PK', 'SN', 'BQ', 'NI', 'LB', 'DJ',\n",
       "       'BS', 'UY', 'HN', 'SO', 'VG', 'YE', 'MC', 'AM', 'FM', 'PA', 'GL',\n",
       "       'BZ', 'LI', 'BO', 'JM', 'KG', 'MM', 'AL', 'KP', 'KW', 'CI'],\n",
       "      dtype=object)"
      ]
     },
     "execution_count": 116,
     "metadata": {},
     "output_type": "execute_result"
    }
   ],
   "source": [
    "df_cleaned.Country.unique()"
   ]
  },
  {
   "cell_type": "code",
   "execution_count": 117,
   "metadata": {},
   "outputs": [
    {
     "data": {
      "text/plain": [
       "Index(['Backers', 'Category', 'Country', 'Created_Datetime', 'Creater_ID',\n",
       "       'Creater_Name', 'Funding_Deadline', 'Goal', 'Name', 'Pledged', 'State',\n",
       "       'Status', 'Created_Month', 'Deadline_Month', 'Pledge_Percentage',\n",
       "       'Funding_Duration', 'Trump_Election'],\n",
       "      dtype='object')"
      ]
     },
     "execution_count": 117,
     "metadata": {},
     "output_type": "execute_result"
    }
   ],
   "source": [
    "df_cleaned.columns"
   ]
  },
  {
   "cell_type": "code",
   "execution_count": 126,
   "metadata": {},
   "outputs": [],
   "source": [
    "df_cleaned_us=df_cleaned[df_cleaned['Country'].isin(['US'])]\n",
    "df_us_agged=Aggregate_Mean(df_cleaned_us,['State','Created_Month','Category'])\n",
    "df_us_agged=df_us_agged[df_us_agged.Category.isin(['Product Design','Apps'])]"
   ]
  },
  {
   "cell_type": "code",
   "execution_count": 127,
   "metadata": {},
   "outputs": [
    {
     "data": {
      "text/plain": [
       "Product Design       4682\n",
       "Tabletop Games       4429\n",
       "Apps                 3426\n",
       "Apparel              3227\n",
       "Comic Books          2593\n",
       "Children's Books     2542\n",
       "Web                  2386\n",
       "Gadgets              2272\n",
       "Accessories          2113\n",
       "Illustration         2096\n",
       "Playing Cards        1963\n",
       "Hip-Hop              1940\n",
       "Restaurants          1856\n",
       "Graphic Novels       1841\n",
       "Comedy               1827\n",
       "Nonfiction           1819\n",
       "Video Games          1782\n",
       "Drinks               1728\n",
       "Fiction              1698\n",
       "Country & Folk       1567\n",
       "Drama                1553\n",
       "Art Books            1398\n",
       "Documentary          1394\n",
       "Small Batch          1356\n",
       "Painting             1336\n",
       "Software             1311\n",
       "Food Trucks          1186\n",
       "Hardware             1180\n",
       "Mobile Games         1146\n",
       "Webseries            1120\n",
       "                     ... \n",
       "Space Exploration     185\n",
       "Makerspaces           171\n",
       "Flight                162\n",
       "Blues                 158\n",
       "Romance               154\n",
       "Community Gardens     152\n",
       "Kids                  149\n",
       "Movie Theaters        138\n",
       "Couture               136\n",
       "Photo                 133\n",
       "Fabrication Tools     128\n",
       "Crochet               116\n",
       "Pet Fashion           115\n",
       "Workshops             113\n",
       "Video Art             107\n",
       "Latin                  93\n",
       "Animals                86\n",
       "Knitting               63\n",
       "Embroidery             57\n",
       "Translations           55\n",
       "Bacon                  55\n",
       "Pottery                49\n",
       "Glass                  47\n",
       "Typography             45\n",
       "Quilts                 33\n",
       "Weaving                28\n",
       "Residencies            24\n",
       "Literary Spaces        18\n",
       "Letterpress            12\n",
       "Taxidermy               7\n",
       "Name: Category, Length: 143, dtype: int64"
      ]
     },
     "execution_count": 127,
     "metadata": {},
     "output_type": "execute_result"
    }
   ],
   "source": [
    "df_cleaned_us.Category.value_counts()"
   ]
  },
  {
   "cell_type": "code",
   "execution_count": 128,
   "metadata": {},
   "outputs": [
    {
     "data": {
      "text/plain": [
       "array(['GA', 'IL', 'IA', 'CA', 'MO', 'NY', 'CT', 'TX', 'UT', 'DC', 'CO',\n",
       "       'VT', 'KS', 'MS', 'RI', 'FL', 'WA', 'MD', 'VA', 'MA', 'PA', 'AL',\n",
       "       'AZ', 'SC', 'DE', 'KY', 'IN', 'NJ', 'OH', 'MI', 'HI', 'NC', 'MT',\n",
       "       'OR', 'WI', 'TN', 'MN', 'NV', 'NE', 'OK', 'ME', 'LA', 'AK', 'SD',\n",
       "       'NH', 'ID', 'NM', 'WV', 'AR', 'ND', 'WY'], dtype=object)"
      ]
     },
     "execution_count": 128,
     "metadata": {},
     "output_type": "execute_result"
    }
   ],
   "source": [
    "df_cleaned_us.State.unique()"
   ]
  },
  {
   "cell_type": "code",
   "execution_count": 129,
   "metadata": {},
   "outputs": [
    {
     "data": {
      "text/plain": [
       "array([datetime.date(2016, 8, 1), datetime.date(2016, 9, 1),\n",
       "       datetime.date(2017, 3, 1), datetime.date(2017, 5, 1),\n",
       "       datetime.date(2016, 11, 1), datetime.date(2016, 12, 1),\n",
       "       datetime.date(2017, 2, 1), datetime.date(2017, 4, 1),\n",
       "       datetime.date(2016, 10, 1), datetime.date(2017, 1, 1),\n",
       "       datetime.date(2017, 6, 1), datetime.date(2017, 7, 1),\n",
       "       datetime.date(2016, 7, 1)], dtype=object)"
      ]
     },
     "execution_count": 129,
     "metadata": {},
     "output_type": "execute_result"
    }
   ],
   "source": [
    "df_us_agged.Created_Month.unique()"
   ]
  },
  {
   "cell_type": "code",
   "execution_count": 121,
   "metadata": {},
   "outputs": [],
   "source": [
    "%matplotlib inline"
   ]
  },
  {
   "cell_type": "code",
   "execution_count": null,
   "metadata": {},
   "outputs": [],
   "source": []
  }
 ],
 "metadata": {
  "kernelspec": {
   "display_name": "Python 3",
   "language": "python",
   "name": "python3"
  },
  "language_info": {
   "codemirror_mode": {
    "name": "ipython",
    "version": 3
   },
   "file_extension": ".py",
   "mimetype": "text/x-python",
   "name": "python",
   "nbconvert_exporter": "python",
   "pygments_lexer": "ipython3",
   "version": "3.7.3"
  }
 },
 "nbformat": 4,
 "nbformat_minor": 2
}
