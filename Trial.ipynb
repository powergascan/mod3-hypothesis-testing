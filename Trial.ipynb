{
 "cells": [
  {
   "cell_type": "code",
   "execution_count": 6,
   "metadata": {},
   "outputs": [],
   "source": [
    "%load_ext autoreload\n",
    "%autoreload 2"
   ]
  },
  {
   "cell_type": "code",
   "execution_count": 7,
   "metadata": {},
   "outputs": [],
   "source": [
    "from data_precleaning import *"
   ]
  },
  {
   "cell_type": "code",
   "execution_count": 8,
   "metadata": {},
   "outputs": [],
   "source": [
    "list_of_files=json_filter(\"json_data\")"
   ]
  },
  {
   "cell_type": "code",
   "execution_count": 9,
   "metadata": {},
   "outputs": [
    {
     "data": {
      "text/plain": [
       "['2016-07-15T02_04_40_862Z.json.gz',\n",
       " '2016-08-15T02_04_03_829Z.json.gz',\n",
       " '2016-09-15T02_04_03_474Z.json.gz',\n",
       " '2016-10-15T02_04_11_689Z.json.gz',\n",
       " '2016-11-12T22_20_03_295Z.json.gz',\n",
       " '2016-12-15T22_20_52_411Z.json.gz',\n",
       " '2017-01-15T22_21_04_985Z.json.gz',\n",
       " '2017-02-15T22_22_48_377Z.json.gz',\n",
       " '2017-03-15T22_20_55_874Z.json.gz',\n",
       " '2017-04-15T22_21_18_122Z.json.gz',\n",
       " '2017-05-15T22_21_11_300Z.json.gz',\n",
       " '2017-06-15T22_20_03_059Z.json.gz']"
      ]
     },
     "execution_count": 9,
     "metadata": {},
     "output_type": "execute_result"
    }
   ],
   "source": [
    "list_of_files"
   ]
  },
  {
   "cell_type": "code",
   "execution_count": 10,
   "metadata": {},
   "outputs": [],
   "source": [
    "csv_list=[]\n",
    "for i in list_of_files:\n",
    "    jsons=json_generator(i)\n",
    "    csv_list.append(generate_kickstarter_csv(jsons))"
   ]
  },
  {
   "cell_type": "code",
   "execution_count": 45,
   "metadata": {},
   "outputs": [
    {
     "name": "stdout",
     "output_type": "stream",
     "text": [
      "csv saved to data\\Trial_Pickle.csv\n"
     ]
    }
   ],
   "source": [
    "df=kickstarter_concat(csv_list,\"Trial_Pickle\")"
   ]
  },
  {
   "cell_type": "code",
   "execution_count": 14,
   "metadata": {},
   "outputs": [
    {
     "data": {
      "text/html": [
       "<div>\n",
       "<style scoped>\n",
       "    .dataframe tbody tr th:only-of-type {\n",
       "        vertical-align: middle;\n",
       "    }\n",
       "\n",
       "    .dataframe tbody tr th {\n",
       "        vertical-align: top;\n",
       "    }\n",
       "\n",
       "    .dataframe thead th {\n",
       "        text-align: right;\n",
       "    }\n",
       "</style>\n",
       "<table border=\"1\" class=\"dataframe\">\n",
       "  <thead>\n",
       "    <tr style=\"text-align: right;\">\n",
       "      <th></th>\n",
       "      <th>Backers</th>\n",
       "      <th>Category</th>\n",
       "      <th>Country</th>\n",
       "      <th>Created_Datetime</th>\n",
       "      <th>Creater_ID</th>\n",
       "      <th>Creater_Name</th>\n",
       "      <th>Funding_Deadline</th>\n",
       "      <th>Goal</th>\n",
       "      <th>Name</th>\n",
       "      <th>Pledged</th>\n",
       "      <th>State</th>\n",
       "      <th>Status</th>\n",
       "    </tr>\n",
       "  </thead>\n",
       "  <tbody>\n",
       "    <tr>\n",
       "      <th>2070663</th>\n",
       "      <td>64</td>\n",
       "      <td>Spaces</td>\n",
       "      <td>US</td>\n",
       "      <td>1403320418</td>\n",
       "      <td>1668055563</td>\n",
       "      <td>Colorado Actors Company &amp; Theatre School</td>\n",
       "      <td>1408679055</td>\n",
       "      <td>4000.0</td>\n",
       "      <td>Colorado ACTS Black Box Painting</td>\n",
       "      <td>5308.26</td>\n",
       "      <td>CO</td>\n",
       "      <td>successful</td>\n",
       "    </tr>\n",
       "    <tr>\n",
       "      <th>2070664</th>\n",
       "      <td>58</td>\n",
       "      <td>Spaces</td>\n",
       "      <td>US</td>\n",
       "      <td>1405399445</td>\n",
       "      <td>552677239</td>\n",
       "      <td>Colleen and David Specht</td>\n",
       "      <td>1410324720</td>\n",
       "      <td>7900.0</td>\n",
       "      <td>improvMANIA Improv Comedy Theater - Chandler, ...</td>\n",
       "      <td>15077.0</td>\n",
       "      <td>AZ</td>\n",
       "      <td>successful</td>\n",
       "    </tr>\n",
       "    <tr>\n",
       "      <th>2070665</th>\n",
       "      <td>59</td>\n",
       "      <td>Spaces</td>\n",
       "      <td>GB</td>\n",
       "      <td>1409561898</td>\n",
       "      <td>617004672</td>\n",
       "      <td>Peter Hetherington</td>\n",
       "      <td>1412335772</td>\n",
       "      <td>300.0</td>\n",
       "      <td>St. Michael Boat Parties - Halloween and Beyond!</td>\n",
       "      <td>2277.7885601812</td>\n",
       "      <td>England</td>\n",
       "      <td>successful</td>\n",
       "    </tr>\n",
       "    <tr>\n",
       "      <th>2070666</th>\n",
       "      <td>118</td>\n",
       "      <td>Spaces</td>\n",
       "      <td>US</td>\n",
       "      <td>1408569517</td>\n",
       "      <td>1025452652</td>\n",
       "      <td>Pangea House Collective</td>\n",
       "      <td>1412611905</td>\n",
       "      <td>10600.0</td>\n",
       "      <td>Pangea House Revitalization Project</td>\n",
       "      <td>12772.6</td>\n",
       "      <td>ND</td>\n",
       "      <td>successful</td>\n",
       "    </tr>\n",
       "    <tr>\n",
       "      <th>2070667</th>\n",
       "      <td>1095</td>\n",
       "      <td>Spaces</td>\n",
       "      <td>US</td>\n",
       "      <td>1409848035</td>\n",
       "      <td>1947692763</td>\n",
       "      <td>Dad's Garage Theatre Company</td>\n",
       "      <td>1415722236</td>\n",
       "      <td>116000.0</td>\n",
       "      <td>Build the House of Dad's!</td>\n",
       "      <td>169985.91</td>\n",
       "      <td>GA</td>\n",
       "      <td>successful</td>\n",
       "    </tr>\n",
       "  </tbody>\n",
       "</table>\n",
       "</div>"
      ],
      "text/plain": [
       "         Backers Category Country  Created_Datetime  Creater_ID  \\\n",
       "2070663       64   Spaces      US        1403320418  1668055563   \n",
       "2070664       58   Spaces      US        1405399445   552677239   \n",
       "2070665       59   Spaces      GB        1409561898   617004672   \n",
       "2070666      118   Spaces      US        1408569517  1025452652   \n",
       "2070667     1095   Spaces      US        1409848035  1947692763   \n",
       "\n",
       "                                     Creater_Name  Funding_Deadline      Goal  \\\n",
       "2070663  Colorado Actors Company & Theatre School        1408679055    4000.0   \n",
       "2070664                  Colleen and David Specht        1410324720    7900.0   \n",
       "2070665                        Peter Hetherington        1412335772     300.0   \n",
       "2070666                   Pangea House Collective        1412611905   10600.0   \n",
       "2070667              Dad's Garage Theatre Company        1415722236  116000.0   \n",
       "\n",
       "                                                      Name          Pledged  \\\n",
       "2070663                   Colorado ACTS Black Box Painting          5308.26   \n",
       "2070664  improvMANIA Improv Comedy Theater - Chandler, ...          15077.0   \n",
       "2070665   St. Michael Boat Parties - Halloween and Beyond!  2277.7885601812   \n",
       "2070666                Pangea House Revitalization Project          12772.6   \n",
       "2070667                          Build the House of Dad's!        169985.91   \n",
       "\n",
       "           State      Status  \n",
       "2070663       CO  successful  \n",
       "2070664       AZ  successful  \n",
       "2070665  England  successful  \n",
       "2070666       ND  successful  \n",
       "2070667       GA  successful  "
      ]
     },
     "execution_count": 14,
     "metadata": {},
     "output_type": "execute_result"
    }
   ],
   "source": [
    "df.tail()"
   ]
  },
  {
   "cell_type": "code",
   "execution_count": 16,
   "metadata": {},
   "outputs": [
    {
     "data": {
      "text/plain": [
       "['Backers',\n",
       " 'Category',\n",
       " 'Country',\n",
       " 'Created_Datetime',\n",
       " 'Creater_ID',\n",
       " 'Creater_Name',\n",
       " 'Funding_Deadline',\n",
       " 'Goal',\n",
       " 'Name',\n",
       " 'Pledged',\n",
       " 'State',\n",
       " 'Status']"
      ]
     },
     "execution_count": 16,
     "metadata": {},
     "output_type": "execute_result"
    }
   ],
   "source": [
    "list(df.columns)"
   ]
  },
  {
   "cell_type": "code",
   "execution_count": 21,
   "metadata": {},
   "outputs": [
    {
     "name": "stdout",
     "output_type": "stream",
     "text": [
      "<class 'pandas.core.frame.DataFrame'>\n",
      "RangeIndex: 2070668 entries, 0 to 2070667\n",
      "Data columns (total 12 columns):\n",
      "Backers             int64\n",
      "Category            object\n",
      "Country             object\n",
      "Created_Datetime    int64\n",
      "Creater_ID          int64\n",
      "Creater_Name        object\n",
      "Funding_Deadline    int64\n",
      "Goal                float64\n",
      "Name                object\n",
      "Pledged             object\n",
      "State               object\n",
      "Status              object\n",
      "dtypes: float64(1), int64(4), object(7)\n",
      "memory usage: 189.6+ MB\n"
     ]
    }
   ],
   "source": [
    "df.info()"
   ]
  },
  {
   "cell_type": "code",
   "execution_count": 28,
   "metadata": {},
   "outputs": [
    {
     "data": {
      "text/plain": [
       "1240366270"
      ]
     },
     "execution_count": 28,
     "metadata": {},
     "output_type": "execute_result"
    }
   ],
   "source": [
    "df['Created_Datetime'].min()"
   ]
  },
  {
   "cell_type": "code",
   "execution_count": 23,
   "metadata": {},
   "outputs": [],
   "source": [
    "from datetime import datetime"
   ]
  },
  {
   "cell_type": "code",
   "execution_count": 31,
   "metadata": {},
   "outputs": [
    {
     "data": {
      "text/plain": [
       "datetime.datetime"
      ]
     },
     "execution_count": 31,
     "metadata": {},
     "output_type": "execute_result"
    }
   ],
   "source": [
    "type(datetime.fromtimestamp(1240366270))"
   ]
  },
  {
   "cell_type": "code",
   "execution_count": 34,
   "metadata": {},
   "outputs": [],
   "source": [
    "from data_cleaning import *"
   ]
  },
  {
   "cell_type": "code",
   "execution_count": 30,
   "metadata": {},
   "outputs": [],
   "source": [
    "import pandas as pd"
   ]
  },
  {
   "cell_type": "code",
   "execution_count": 41,
   "metadata": {},
   "outputs": [],
   "source": [
    "df_cleaned=full_clean(df)"
   ]
  },
  {
   "cell_type": "code",
   "execution_count": 47,
   "metadata": {},
   "outputs": [],
   "source": [
    "df_cleaned.to_pickle(\"cleaned_df.pickle\")"
   ]
  },
  {
   "cell_type": "code",
   "execution_count": 48,
   "metadata": {},
   "outputs": [],
   "source": [
    "a=pd.read_pickle(\"data/cleaned_df.pickle\")"
   ]
  },
  {
   "cell_type": "code",
   "execution_count": null,
   "metadata": {},
   "outputs": [],
   "source": []
  }
 ],
 "metadata": {
  "kernelspec": {
   "display_name": "Python 3",
   "language": "python",
   "name": "python3"
  },
  "language_info": {
   "codemirror_mode": {
    "name": "ipython",
    "version": 3
   },
   "file_extension": ".py",
   "mimetype": "text/x-python",
   "name": "python",
   "nbconvert_exporter": "python",
   "pygments_lexer": "ipython3",
   "version": "3.7.3"
  }
 },
 "nbformat": 4,
 "nbformat_minor": 2
}
